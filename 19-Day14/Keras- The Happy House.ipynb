{
 "cells": [
  {
   "cell_type": "code",
   "execution_count": 18,
   "metadata": {},
   "outputs": [],
   "source": [
    "import numpy as np\n",
    "from keras import layers\n",
    "from keras.layers import Input, Dense, Activation, ZeroPadding2D, BatchNormalization, Flatten, Conv2D\n",
    "from keras.layers import AveragePooling2D, MaxPooling2D, Dropout, GlobalMaxPooling2D, GlobalAveragePooling2D\n",
    "from keras.models import Model\n",
    "from keras.preprocessing import image\n",
    "from keras.utils import layer_utils\n",
    "from keras.utils.data_utils import get_file\n",
    "from keras.applications.imagenet_utils import preprocess_input\n",
    "import pydot\n",
    "from IPython.display import SVG\n",
    "from keras.utils.vis_utils import model_to_dot\n",
    "from keras.utils import plot_model\n",
    "from kt_utils import *\n",
    "\n",
    "import keras.backend as K\n",
    "K.set_image_data_format('channels_last')\n",
    "import matplotlib.pyplot as plt\n",
    "from matplotlib.pyplot import imshow\n",
    "\n",
    "%matplotlib inline"
   ]
  },
  {
   "cell_type": "code",
   "execution_count": 2,
   "metadata": {},
   "outputs": [
    {
     "name": "stdout",
     "output_type": "stream",
     "text": [
      "number of training examples = 600\n",
      "number of test examples = 150\n",
      "X_train shape: (600, 64, 64, 3)\n",
      "Y_train shape: (600, 1)\n",
      "X_test shape: (150, 64, 64, 3)\n",
      "Y_test shape: (150, 1)\n"
     ]
    }
   ],
   "source": [
    "X_train_orig, Y_train_orig, X_test_orig, Y_test_orig, classes = load_dataset()\n",
    "\n",
    "# Normalize image vectors\n",
    "X_train = X_train_orig/255.\n",
    "X_test = X_test_orig/255.\n",
    "\n",
    "# Reshape\n",
    "Y_train = Y_train_orig.T\n",
    "Y_test = Y_test_orig.T\n",
    "\n",
    "print (\"number of training examples = \" + str(X_train.shape[0]))\n",
    "print (\"number of test examples = \" + str(X_test.shape[0]))\n",
    "print (\"X_train shape: \" + str(X_train.shape))\n",
    "print (\"Y_train shape: \" + str(Y_train.shape))\n",
    "print (\"X_test shape: \" + str(X_test.shape))\n",
    "print (\"Y_test shape: \" + str(Y_test.shape))"
   ]
  },
  {
   "cell_type": "code",
   "execution_count": 3,
   "metadata": {},
   "outputs": [],
   "source": [
    "def HappyModel(input_shape):\n",
    "    \n",
    "    \"\"\"\n",
    "    Implementation of the HappyModel.\n",
    "    \n",
    "    Arguments:\n",
    "    input_shape -- shape of the images of the dataset\n",
    "\n",
    "    Returns:\n",
    "    model -- a Model() instance in Keras\n",
    "    \"\"\"\n",
    "    \n",
    "    X_input = Input(input_shape)\n",
    "    \n",
    "    X = ZeroPadding2D((3,3))(X_input)\n",
    "    \n",
    "    X = Conv2D(32,(7,7),strides=(1,1),name='conv0')(X)\n",
    "    X = BatchNormalization(axis=3,name='bn0')(X)\n",
    "    X = Activation('relu')(X)\n",
    "    \n",
    "    X = MaxPooling2D((2, 2), name='max_pool')(X)\n",
    "    X = Flatten()(X)\n",
    "    X = Dense(1, activation='sigmoid', name='fc')(X)\n",
    "\n",
    "    # Create model. This creates your Keras model instance, you'll use this instance to train/test the model.\n",
    "    model = Model(inputs=X_input, outputs=X, name='HappyModel')\n",
    "\n",
    "    return model"
   ]
  },
  {
   "cell_type": "code",
   "execution_count": 4,
   "metadata": {},
   "outputs": [],
   "source": [
    "happyModel = HappyModel(X_train.shape[1:])"
   ]
  },
  {
   "cell_type": "code",
   "execution_count": 5,
   "metadata": {},
   "outputs": [],
   "source": [
    "happyModel.compile('adam', 'binary_crossentropy', metrics=['accuracy'])"
   ]
  },
  {
   "cell_type": "code",
   "execution_count": 6,
   "metadata": {},
   "outputs": [
    {
     "name": "stdout",
     "output_type": "stream",
     "text": [
      "Epoch 1/40\n",
      "600/600 [==============================] - 7s 11ms/step - loss: 3.0149 - acc: 0.5483\n",
      "Epoch 2/40\n",
      "600/600 [==============================] - 7s 12ms/step - loss: 0.7784 - acc: 0.7383\n",
      "Epoch 3/40\n",
      "600/600 [==============================] - 7s 12ms/step - loss: 0.2915 - acc: 0.8800\n",
      "Epoch 4/40\n",
      "600/600 [==============================] - 8s 13ms/step - loss: 0.1771 - acc: 0.9383\n",
      "Epoch 5/40\n",
      "600/600 [==============================] - 6s 10ms/step - loss: 0.1631 - acc: 0.9333\n",
      "Epoch 6/40\n",
      "600/600 [==============================] - 6s 11ms/step - loss: 0.1471 - acc: 0.9483\n",
      "Epoch 7/40\n",
      "600/600 [==============================] - 7s 12ms/step - loss: 0.1060 - acc: 0.9717\n",
      "Epoch 8/40\n",
      "600/600 [==============================] - 6s 11ms/step - loss: 0.1017 - acc: 0.9683\n",
      "Epoch 9/40\n",
      "600/600 [==============================] - 7s 12ms/step - loss: 0.0821 - acc: 0.9733\n",
      "Epoch 10/40\n",
      "600/600 [==============================] - 8s 13ms/step - loss: 0.0697 - acc: 0.9800\n",
      "Epoch 11/40\n",
      "600/600 [==============================] - 6s 11ms/step - loss: 0.0616 - acc: 0.9850\n",
      "Epoch 12/40\n",
      "600/600 [==============================] - 6s 11ms/step - loss: 0.0588 - acc: 0.9817\n",
      "Epoch 13/40\n",
      "600/600 [==============================] - 6s 10ms/step - loss: 0.0590 - acc: 0.9850\n",
      "Epoch 14/40\n",
      "600/600 [==============================] - 7s 12ms/step - loss: 0.0576 - acc: 0.9850\n",
      "Epoch 15/40\n",
      "600/600 [==============================] - 7s 12ms/step - loss: 0.0638 - acc: 0.9783\n",
      "Epoch 16/40\n",
      "600/600 [==============================] - 7s 12ms/step - loss: 0.0469 - acc: 0.9900\n",
      "Epoch 17/40\n",
      "600/600 [==============================] - 6s 11ms/step - loss: 0.0655 - acc: 0.9750\n",
      "Epoch 18/40\n",
      "600/600 [==============================] - 6s 11ms/step - loss: 0.0563 - acc: 0.9850\n",
      "Epoch 19/40\n",
      "600/600 [==============================] - 6s 11ms/step - loss: 0.0706 - acc: 0.9767\n",
      "Epoch 20/40\n",
      "600/600 [==============================] - 6s 11ms/step - loss: 0.0469 - acc: 0.9883\n",
      "Epoch 21/40\n",
      "600/600 [==============================] - 7s 11ms/step - loss: 0.0558 - acc: 0.9850\n",
      "Epoch 22/40\n",
      "600/600 [==============================] - 7s 11ms/step - loss: 0.0391 - acc: 0.9900\n",
      "Epoch 23/40\n",
      "600/600 [==============================] - 7s 11ms/step - loss: 0.0420 - acc: 0.9900\n",
      "Epoch 24/40\n",
      "600/600 [==============================] - 7s 11ms/step - loss: 0.0387 - acc: 0.9917\n",
      "Epoch 25/40\n",
      "600/600 [==============================] - 7s 12ms/step - loss: 0.0293 - acc: 0.9950\n",
      "Epoch 26/40\n",
      "600/600 [==============================] - 6s 11ms/step - loss: 0.0258 - acc: 0.9900\n",
      "Epoch 27/40\n",
      "600/600 [==============================] - 6s 11ms/step - loss: 0.0223 - acc: 0.9967\n",
      "Epoch 28/40\n",
      "600/600 [==============================] - 6s 11ms/step - loss: 0.0204 - acc: 0.9933\n",
      "Epoch 29/40\n",
      "600/600 [==============================] - 6s 10ms/step - loss: 0.0189 - acc: 0.9983\n",
      "Epoch 30/40\n",
      "600/600 [==============================] - 6s 11ms/step - loss: 0.0237 - acc: 0.9950\n",
      "Epoch 31/40\n",
      "600/600 [==============================] - 6s 10ms/step - loss: 0.0220 - acc: 0.9967\n",
      "Epoch 32/40\n",
      "600/600 [==============================] - 7s 11ms/step - loss: 0.0215 - acc: 0.9933\n",
      "Epoch 33/40\n",
      "600/600 [==============================] - 7s 12ms/step - loss: 0.0386 - acc: 0.9867\n",
      "Epoch 34/40\n",
      "600/600 [==============================] - 6s 11ms/step - loss: 0.0276 - acc: 0.9917\n",
      "Epoch 35/40\n",
      "600/600 [==============================] - 7s 11ms/step - loss: 0.0248 - acc: 0.9950\n",
      "Epoch 36/40\n",
      "600/600 [==============================] - 6s 10ms/step - loss: 0.0231 - acc: 0.9950\n",
      "Epoch 37/40\n",
      "600/600 [==============================] - 6s 10ms/step - loss: 0.0234 - acc: 0.9933\n",
      "Epoch 38/40\n",
      "600/600 [==============================] - 6s 11ms/step - loss: 0.0213 - acc: 0.9933\n",
      "Epoch 39/40\n",
      "600/600 [==============================] - 6s 10ms/step - loss: 0.0196 - acc: 0.9950\n",
      "Epoch 40/40\n",
      "600/600 [==============================] - 6s 10ms/step - loss: 0.0154 - acc: 0.9950\n"
     ]
    },
    {
     "data": {
      "text/plain": [
       "<keras.callbacks.History at 0x11afa6ba8>"
      ]
     },
     "execution_count": 6,
     "metadata": {},
     "output_type": "execute_result"
    }
   ],
   "source": [
    "happyModel.fit(X_train, Y_train, epochs=40, batch_size=50)"
   ]
  },
  {
   "cell_type": "code",
   "execution_count": 7,
   "metadata": {},
   "outputs": [
    {
     "name": "stdout",
     "output_type": "stream",
     "text": [
      "150/150 [==============================] - 1s 7ms/step\n"
     ]
    }
   ],
   "source": [
    "preds = happyModel.evaluate(X_test, Y_test, batch_size=32, verbose=1, sample_weight=None)"
   ]
  },
  {
   "cell_type": "code",
   "execution_count": 8,
   "metadata": {},
   "outputs": [
    {
     "name": "stdout",
     "output_type": "stream",
     "text": [
      "\n",
      "Loss = 0.07319852610429128\n",
      "Test Accuracy = 0.9733333373069764\n"
     ]
    }
   ],
   "source": [
    "print()\n",
    "print (\"Loss = \" + str(preds[0]))\n",
    "print (\"Test Accuracy = \" + str(preds[1]))"
   ]
  },
  {
   "cell_type": "code",
   "execution_count": 20,
   "metadata": {},
   "outputs": [
    {
     "name": "stdout",
     "output_type": "stream",
     "text": [
      "(1, 64, 64, 3)\n",
      "[[1.]]\n"
     ]
    },
    {
     "data": {
      "image/png": "[encoded data removed]",
      "text/plain": [
       "<Figure size 432x288 with 1 Axes>"
      ]
     },
     "metadata": {},
     "output_type": "display_data"
    }
   ],
   "source": [
    "img_path = 'datasets/check8.jpg'\n",
    "### END CODE HERE ###\n",
    "img = image.load_img(img_path, target_size=(64, 64))\n",
    "imshow(img)\n",
    "\n",
    "x = image.img_to_array(img)\n",
    "\n",
    "x = np.expand_dims(x, axis=0)\n",
    "x = preprocess_input(x)\n",
    "print(x.shape)\n",
    "print(happyModel.predict(x))"
   ]
  },
  {
   "cell_type": "code",
   "execution_count": null,
   "metadata": {},
   "outputs": [],
   "source": []
  }
 ],
 "metadata": {
  "kernelspec": {
   "display_name": "Python 3",
   "language": "python",
   "name": "python3"
  },
  "language_info": {
   "codemirror_mode": {
    "name": "ipython",
    "version": 3
   },
   "file_extension": ".py",
   "mimetype": "text/x-python",
   "name": "python",
   "nbconvert_exporter": "python",
   "pygments_lexer": "ipython3",
   "version": "3.6.5"
  }
 },
 "nbformat": 4,
 "nbformat_minor": 2
}
