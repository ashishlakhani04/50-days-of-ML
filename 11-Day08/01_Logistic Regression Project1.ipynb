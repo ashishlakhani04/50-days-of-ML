{
 "cells": [
  {
   "cell_type": "markdown",
   "metadata": {},
   "source": [
    "### The Aim of this project is to check if a given image is of digit '1' or not"
   ]
  },
  {
   "cell_type": "code",
   "execution_count": 1,
   "metadata": {},
   "outputs": [],
   "source": [
    "import numpy as np\n",
    "import matplotlib.pyplot as plt\n",
    "%matplotlib inline\n",
    "from sklearn.datasets import load_digits\n",
    "from sklearn.linear_model import LogisticRegression"
   ]
  },
  {
   "cell_type": "code",
   "execution_count": 2,
   "metadata": {},
   "outputs": [
    {
     "name": "stdout",
     "output_type": "stream",
     "text": [
      "(1797, 64) (1797,)\n"
     ]
    }
   ],
   "source": [
    "# MNIST dataset from sklearn package\n",
    "digits = load_digits(return_X_y=True)\n",
    "x = digits[0]\n",
    "y = digits[1]\n",
    "print(x.shape,y.shape)"
   ]
  },
  {
   "cell_type": "code",
   "execution_count": 3,
   "metadata": {},
   "outputs": [
    {
     "data": {
      "text/plain": [
       "<matplotlib.image.AxesImage at 0x108cde978>"
      ]
     },
     "execution_count": 3,
     "metadata": {},
     "output_type": "execute_result"
    },
    {
     "data": {
      "image/png": "[encoded data removed]",
      "text/plain": [
       "<Figure size 432x288 with 1 Axes>"
      ]
     },
     "metadata": {},
     "output_type": "display_data"
    }
   ],
   "source": [
    "# print a demo image\n",
    "plt.imshow(x[3,:].reshape(8,-1),cmap='gray')"
   ]
  },
  {
   "cell_type": "code",
   "execution_count": 4,
   "metadata": {},
   "outputs": [
    {
     "name": "stdout",
     "output_type": "stream",
     "text": [
      "[0 1 0 ... 0 0 0]\n"
     ]
    }
   ],
   "source": [
    "# if the image is of digit '1' return 1 else 0\n",
    "def make_zero(x):\n",
    "    if x == 1:\n",
    "        return 1\n",
    "    return 0\n",
    "\n",
    "for i in range(y.shape[0]):\n",
    "    y[i] = make_zero(y[i])\n",
    "\n",
    "print(y)"
   ]
  },
  {
   "cell_type": "code",
   "execution_count": 5,
   "metadata": {},
   "outputs": [
    {
     "name": "stdout",
     "output_type": "stream",
     "text": [
      "(1437, 64)\n",
      "(360, 64)\n"
     ]
    }
   ],
   "source": [
    "# split into train and test data\n",
    "split = int(0.8 * x.shape[0])\n",
    "\n",
    "train_x = x[:split]\n",
    "train_y = y[:split]\n",
    "\n",
    "test_x = x[split:]\n",
    "test_y = y[split:]\n",
    "\n",
    "print(train_x.shape)\n",
    "print(test_x.shape)"
   ]
  },
  {
   "cell_type": "code",
   "execution_count": 6,
   "metadata": {},
   "outputs": [
    {
     "data": {
      "text/plain": [
       "LogisticRegression(C=1.0, class_weight=None, dual=False, fit_intercept=True,\n",
       "          intercept_scaling=1, max_iter=100, multi_class='ovr', n_jobs=1,\n",
       "          penalty='l2', random_state=None, solver='liblinear', tol=0.0001,\n",
       "          verbose=0, warm_start=False)"
      ]
     },
     "execution_count": 6,
     "metadata": {},
     "output_type": "execute_result"
    }
   ],
   "source": [
    "# Create an instance of LogisticRegression\n",
    "Log = LogisticRegression()\n",
    "Log.fit(train_x,train_y)"
   ]
  },
  {
   "cell_type": "code",
   "execution_count": 7,
   "metadata": {},
   "outputs": [
    {
     "data": {
      "text/plain": [
       "0.95"
      ]
     },
     "execution_count": 7,
     "metadata": {},
     "output_type": "execute_result"
    }
   ],
   "source": [
    "# Accuracy of our model\n",
    "Log.score(test_x,test_y)"
   ]
  },
  {
   "cell_type": "code",
   "execution_count": 8,
   "metadata": {},
   "outputs": [
    {
     "name": "stdout",
     "output_type": "stream",
     "text": [
      "[ 0.  0.  0.  0.  7. 16.  6.  0.  0.  0.  0.  4. 16. 16.  4.  0.  0.  2.\n",
      " 11. 15. 16. 16.  7.  0.  0. 10. 16. 13. 10. 16.  4.  0.  0.  1.  3.  0.\n",
      "  4. 16.  5.  0.  0.  0.  0.  0.  7. 16.  7.  0.  0.  0.  0.  0.  9. 16.\n",
      "  8.  0.  0.  0.  0.  0.  9. 16.  6.  0.]\n",
      "1\n"
     ]
    },
    {
     "data": {
      "text/plain": [
       "<matplotlib.image.AxesImage at 0x108c3dda0>"
      ]
     },
     "execution_count": 8,
     "metadata": {},
     "output_type": "execute_result"
    },
    {
     "data": {
      "image/png": "[encoded data removed]",
      "text/plain": [
       "<Figure size 432x288 with 1 Axes>"
      ]
     },
     "metadata": {},
     "output_type": "display_data"
    }
   ],
   "source": [
    "# for debugging purposes\n",
    "let = 20\n",
    "print(test_x[let])\n",
    "print(test_y[let])\n",
    "plt.imshow(test_x[let,:].reshape((8,-1)),cmap='gray')"
   ]
  },
  {
   "cell_type": "code",
   "execution_count": 9,
   "metadata": {},
   "outputs": [
    {
     "name": "stdout",
     "output_type": "stream",
     "text": [
      "Enter the index of testcases from 0 to 35920\n",
      "Our model predicted 1\n",
      "Real ans is 1\n",
      "Our model predicted quite well\n"
     ]
    }
   ],
   "source": [
    "# test our model explicitly\n",
    "\n",
    "make_test = int(input(\"Enter the index of testcases from 0 to 359\"))\n",
    "\n",
    "model_prediction = Log.predict(test_x[make_test].reshape((-1,64)))\n",
    "if model_prediction == 1:\n",
    "    print(\"Our model predicted 1\")\n",
    "else:\n",
    "    print(\"Our model predicted something else\")\n",
    "\n",
    "if test_y[make_test] == 1:\n",
    "    print(\"Real ans is 1\")\n",
    "else:\n",
    "    print(\"Real ans is something else\")\n",
    "    \n",
    "if model_prediction == test_y[make_test]:\n",
    "    print(\"Our model predicted quite well\")\n",
    "else:\n",
    "    print(\"Wrong Guess\")\n",
    "    \n"
   ]
  },
  {
   "cell_type": "code",
   "execution_count": null,
   "metadata": {},
   "outputs": [],
   "source": []
  }
 ],
 "metadata": {
  "kernelspec": {
   "display_name": "Python 3",
   "language": "python",
   "name": "python3"
  },
  "language_info": {
   "codemirror_mode": {
    "name": "ipython",
    "version": 3
   },
   "file_extension": ".py",
   "mimetype": "text/x-python",
   "name": "python",
   "nbconvert_exporter": "python",
   "pygments_lexer": "ipython3",
   "version": "3.6.5"
  }
 },
 "nbformat": 4,
 "nbformat_minor": 2
}
